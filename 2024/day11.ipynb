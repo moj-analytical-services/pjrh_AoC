{
 "cells": [
  {
   "cell_type": "code",
   "execution_count": null,
   "id": "0",
   "metadata": {
    "tags": []
   },
   "outputs": [],
   "source": [
    "\n",
    "using Memoize\n",
    "\n",
    "input = read(\"day11.txt\", String)\n",
    "\n",
    "rocks = [parse(Int, x) for x in split(input, \" \")]\n",
    "println(rocks)\n",
    "\n",
    "function split_rock(r)\n",
    "    d = length(digits(r))\n",
    "    a = Int(trunc(r/10^(d/2)))\n",
    "    b = Int(r-a*10^(d/2))\n",
    "    return([a,b])\n",
    "end\n",
    "\n",
    "@memoize function rules(x)\n",
    "    \n",
    "    if x == 0\n",
    "        return([1])  \n",
    "    elseif mod(length(digits(x)),2) == 0\n",
    "        return(split_rock(x))\n",
    "    else\n",
    "        return([x*2024])\n",
    "    end\n",
    "\n",
    "end\n",
    "\n",
    "@memoize function blink(rocks, n)\n",
    "    \n",
    "    new_rocks = Iterators.flatten([rules(x) for x in rocks])\n",
    "    \n",
    "    if n == 1\n",
    "        return(length(collect(new_rocks)))\n",
    "    else \n",
    "        return(sum([blink(x, n - 1) for x in new_rocks]))\n",
    "    end\n",
    "    \n",
    "end\n",
    "\n",
    "@time println(\"Puzzle 1: \", blink(rocks,25))\n",
    "\n",
    "@time println(\"Puzzle 2: \", blink(rocks,75))\n",
    "\n"
   ]
  },
  {
   "cell_type": "code",
   "execution_count": null,
   "id": "1",
   "metadata": {
    "tags": []
   },
   "outputs": [],
   "source": [
    "\n",
    "# Alternative based on storing the number of each numbered rock\n",
    "\n",
    "counter = Dict{Int64,Int64}()\n",
    "\n",
    "function blink2(rocks, n)\n",
    "    \n",
    "    for _ in 1:n\n",
    "        \n",
    "        new_rocks = Iterators.flatten([rules(x) for x in rocks])\n",
    "        for rock in new_rocks\n",
    "            counter[rock] = get(counter, rock, 0)\n",
    "        end\n",
    "        \n",
    "    end\n",
    "    \n",
    "    return(sum[v for (k,v) in counter])\n",
    "    \n",
    "end\n",
    "\n",
    "@time println(\"Puzzle 1: \", blink(rocks,25))\n",
    "\n",
    "@time println(\"Puzzle 2: \", blink(rocks,75))"
   ]
  }
 ],
 "metadata": {
  "kernelspec": {
   "display_name": "Julia 1.8.5",
   "language": "julia",
   "name": "julia-1.8"
  },
  "language_info": {
   "file_extension": ".jl",
   "mimetype": "application/julia",
   "name": "julia",
   "version": "1.8.5"
  }
 },
 "nbformat": 4,
 "nbformat_minor": 5
}
