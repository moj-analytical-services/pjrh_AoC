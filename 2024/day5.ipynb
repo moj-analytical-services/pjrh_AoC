{
 "cells": [
  {
   "cell_type": "code",
   "execution_count": null,
   "id": "0",
   "metadata": {
    "tags": []
   },
   "outputs": [],
   "source": [
    "input = read(\"day5.txt\", String)\n",
    "\n",
    "rules, updates = split(input, \"\\n\\n\")\n",
    "\n",
    "rules = split(rules, \"\\n\")\n",
    "updates = split(updates, \"\\n\")\n",
    "\n",
    "violation_regexs = [Regex(y[2] * \".*\" * y[1] ) for y in [split(x, \"|\") for x in rules]]\n",
    "\n",
    "bad_updates = Vector{String}()\n",
    "middlepage_list = Vector{Int64}()\n",
    "for pages in updates\n",
    "    valid = true\n",
    "    for regex in violation_regexs\n",
    "        if occursin(regex, pages)\n",
    "            valid = false\n",
    "            break\n",
    "        end\n",
    "    end\n",
    "    if valid == false\n",
    "        #println(\"Not valid\")\n",
    "        push!(bad_updates, pages)\n",
    "        continue\n",
    "    end\n",
    "    valid_pagelist = split(pages, \",\")\n",
    "    valid_middlepage = valid_pagelist[Int((length(valid_pagelist)+1)/2)]\n",
    "    #println(valid_middlepage)\n",
    "    append!(middlepage_list, parse(Int64,valid_middlepage))\n",
    "end\n",
    "\n",
    "println(\"Puzzle 1: \", sum(middlepage_list))"
   ]
  },
  {
   "cell_type": "code",
   "execution_count": null,
   "id": "1",
   "metadata": {
    "tags": []
   },
   "outputs": [],
   "source": [
    "using Random;\n",
    "\n",
    "function swap_elements!(v, e1, e2)\n",
    "    i1 = findall(x -> x==e1, v)\n",
    "    i2 = findall(x -> x==e2, v)\n",
    "    v[i1], v[i2] = v[i2], v[i1]\n",
    "    return v\n",
    "end\n",
    "\n",
    "#println(bad_updates)\n",
    "for x in 1:100\n",
    "\n",
    "middlepage_list2 = Vector{Int64}()\n",
    "updates_reordered = Vector{String}()\n",
    "invalid = 0\n",
    "rules = shuffle(rules)\n",
    "for pages in bad_updates\n",
    "    pages_elements = split(pages, \",\")\n",
    "    for rule in rules\n",
    "        rule_elements = split(rule, \"|\")\n",
    "        regex_viol = Regex(rule_elements[2] * \".*\" * rule_elements[1] )\n",
    "        if occursin(regex_viol, pages)\n",
    "            swap_elements!(pages_elements, rule_elements[1], rule_elements[2])\n",
    "            invalid = invalid+1\n",
    "        end\n",
    "    end\n",
    "    new_pages = string(join(pages_elements, ','))\n",
    "    #println(new_pages)\n",
    "    push!(updates_reordered, new_pages)\n",
    "    \n",
    "    middlepage2 = pages_elements[Int((length(pages_elements)+1)/2)]\n",
    "    append!(middlepage_list2, parse(Int64,middlepage2))\n",
    "end\n",
    "\n",
    "bad_updates = updates_reordered\n",
    "\n",
    "println(\"Invalid rules left: \", invalid)\n",
    "    \n",
    "if invalid == 0\n",
    "    break\n",
    "end\n",
    " \n",
    "end\n",
    "\n",
    "println(\"Puzzle 2: \", sum(middlepage_list2))"
   ]
  }
 ],
 "metadata": {
  "kernelspec": {
   "display_name": "Julia 1.8.5",
   "language": "julia",
   "name": "julia-1.8"
  },
  "language_info": {
   "file_extension": ".jl",
   "mimetype": "application/julia",
   "name": "julia",
   "version": "1.8.5"
  }
 },
 "nbformat": 4,
 "nbformat_minor": 5
}
