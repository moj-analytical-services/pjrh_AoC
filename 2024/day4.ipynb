{
 "cells": [
  {
   "cell_type": "code",
   "execution_count": null,
   "id": "0",
   "metadata": {
    "tags": []
   },
   "outputs": [],
   "source": [
    "input = \"MMMSXXMASM\n",
    "MSAMXMSMSA\n",
    "AMXSXMAAMM\n",
    "MSAMASMSMX\n",
    "XMASAMXAMM\n",
    "XXAMMXXAMA\n",
    "SMSMSASXSS\n",
    "SAXAMASAAA\n",
    "MAMMMXMMMM\n",
    "MXMXAXMASX\"\n",
    "\n",
    "input = read(\"day4.txt\", String)\n",
    "\n",
    "rows = length(split(input, \"\\n\"))\n",
    "cols = length(split(input, \"\\n\")[1])"
   ]
  },
  {
   "cell_type": "code",
   "execution_count": null,
   "id": "1",
   "metadata": {
    "tags": []
   },
   "outputs": [],
   "source": [
    "reg_down = Regex(\"X[\\\\S\\\\s]{\" * string(cols) * \"}M[\\\\S\\\\s]{\" * string(cols) * \"}A[\\\\S\\\\s]{\" * string(cols) * \"}S\")\n",
    "reg_up = Regex(\"S[\\\\S\\\\s]{\" * string(cols) * \"}A[\\\\S\\\\s]{\" * string(cols) * \"}M[\\\\S\\\\s]{\" * string(cols) * \"}X\")\n",
    "\n",
    "reg_SE = Regex(\"X[\\\\S\\\\s]{\" * string(cols+1) * \"}M[\\\\S\\\\s]{\" * string(cols+1) * \"}A[\\\\S\\\\s]{\" * string(cols+1) * \"}S\")\n",
    "reg_NW = Regex(\"S[\\\\S\\\\s]{\" * string(cols+1) * \"}A[\\\\S\\\\s]{\" * string(cols+1) * \"}M[\\\\S\\\\s]{\" * string(cols+1) * \"}X\")\n",
    "\n",
    "reg_SW = Regex(\"X[\\\\S\\\\s]{\" * string(cols-1) * \"}M[\\\\S\\\\s]{\" * string(cols-1) * \"}A[\\\\S\\\\s]{\" * string(cols-1) * \"}S\")\n",
    "reg_NE = Regex(\"S[\\\\S\\\\s]{\" * string(cols-1) * \"}A[\\\\S\\\\s]{\" * string(cols-1) * \"}M[\\\\S\\\\s]{\" * string(cols-1) * \"}X\")\n",
    "\n",
    "println(\"Puzzle 1: \", \n",
    "    length(collect(eachmatch(r\"XMAS\", input, overlap=true))) +\n",
    "    length(collect(eachmatch(r\"SAMX\", input, overlap=true))) +\n",
    "    length(collect(eachmatch(reg_SE, input, overlap=true))) +\n",
    "    length(collect(eachmatch(reg_NW, input, overlap=true))) +\n",
    "    length(collect(eachmatch(reg_down, input, overlap=true))) +\n",
    "    length(collect(eachmatch(reg_up, input, overlap=true))) +\n",
    "    length(collect(eachmatch(reg_SW, input, overlap=true))) +\n",
    "    length(collect(eachmatch(reg_NE, input, overlap=true))))"
   ]
  },
  {
   "cell_type": "code",
   "execution_count": null,
   "id": "2",
   "metadata": {
    "tags": []
   },
   "outputs": [],
   "source": [
    "reg_cross1 = Regex(\"M.M[\\\\S\\\\s]{\" * string(cols-1) * \"}A[\\\\S\\\\s]{\" * string(cols-1) * \"}S.S\")\n",
    "reg_cross2 = Regex(\"S.S[\\\\S\\\\s]{\" * string(cols-1) * \"}A[\\\\S\\\\s]{\" * string(cols-1) * \"}M.M\")\n",
    "reg_cross3 = Regex(\"M.S[\\\\S\\\\s]{\" * string(cols-1) * \"}A[\\\\S\\\\s]{\" * string(cols-1) * \"}M.S\")\n",
    "reg_cross4 = Regex(\"S.M[\\\\S\\\\s]{\" * string(cols-1) * \"}A[\\\\S\\\\s]{\" * string(cols-1) * \"}S.M\")\n",
    "\n",
    "println(\"Puzzle 2: \", \n",
    "    length(collect(eachmatch(reg_cross1, input, overlap=true))) +\n",
    "    length(collect(eachmatch(reg_cross2, input, overlap=true))) +\n",
    "    length(collect(eachmatch(reg_cross3, input, overlap=true))) +\n",
    "    length(collect(eachmatch(reg_cross4, input, overlap=true))))"
   ]
  }
 ],
 "metadata": {
  "kernelspec": {
   "display_name": "Julia 1.8.5",
   "language": "julia",
   "name": "julia-1.8"
  },
  "language_info": {
   "file_extension": ".jl",
   "mimetype": "application/julia",
   "name": "julia",
   "version": "1.8.5"
  }
 },
 "nbformat": 4,
 "nbformat_minor": 5
}
