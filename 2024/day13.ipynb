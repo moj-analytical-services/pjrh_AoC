{
 "cells": [
  {
   "cell_type": "code",
   "execution_count": null,
   "id": "0",
   "metadata": {
    "tags": []
   },
   "outputs": [],
   "source": [
    "input = read(\"day13.txt\", String)\n",
    "\n",
    "struct ClawGame\n",
    "    A::Vector{Int}\n",
    "    B::Vector{Int}\n",
    "    prize::Vector{Int}\n",
    "end\n",
    "\n",
    "function parse_claw(claw)\n",
    "    element = split(claw, \"\\n\")\n",
    "    a1 = parse(Int64, match(r\"X\\+(\\d+)\", element[1]).captures[1])\n",
    "    a2 = parse(Int64, match(r\"Y\\+(\\d+)\", element[1]).captures[1])\n",
    "    b1 = parse(Int64, match(r\"X\\+(\\d+)\", element[2]).captures[1])\n",
    "    b2 = parse(Int64, match(r\"Y\\+(\\d+)\", element[2]).captures[1])\n",
    "    p1 = parse(Int64, match(r\"X=(\\d+)\", element[3]).captures[1])\n",
    "    p2 = parse(Int64, match(r\"Y=(\\d+)\", element[3]).captures[1])\n",
    "    ClawGame([a1,a2], [b1,b2], [p1,p2])\n",
    "end\n",
    "\n",
    "function parse_input(input)\n",
    "    claw_list = split(input, \"\\n\\n\")\n",
    "    [parse_claw(claw) for claw in claw_list]\n",
    "end\n",
    "\n",
    "function cost(cg, prize_offset = 0)\n",
    "\n",
    "    m = [cg.A[1] cg.B[1]; cg.A[2] cg.B[2]]\n",
    "    prize_vec = [cg.prize[1], cg.prize[2]] + [prize_offset, prize_offset]\n",
    "    press = inv(m)*(prize_vec)\n",
    "    press = map(x -> Int(round(x)), press)\n",
    "\n",
    "    if ((press[1]*cg.A + press[2]*cg.B) == prize_vec)\n",
    "        return(Int(3*press[1] + press[2]))\n",
    "    else\n",
    "        return(0)\n",
    "    end\n",
    "end\n",
    "\n",
    "clawgame_list = parse_input(input)\n",
    "println(\"Puzzle 1: \", sum([cost(g) for g in clawgame_list]))\n",
    "println(\"Puzzle 2: \", sum([cost(g, 10000000000000) for g in clawgame_list]))"
   ]
  }
 ],
 "metadata": {
  "kernelspec": {
   "display_name": "Julia 1.8.5",
   "language": "julia",
   "name": "julia-1.8"
  },
  "language_info": {
   "file_extension": ".jl",
   "mimetype": "application/julia",
   "name": "julia",
   "version": "1.8.5"
  }
 },
 "nbformat": 4,
 "nbformat_minor": 5
}
