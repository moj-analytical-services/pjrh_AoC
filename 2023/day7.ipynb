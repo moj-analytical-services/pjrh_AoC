{
 "cells": [
  {
   "cell_type": "code",
   "execution_count": null,
   "id": "e9bdf896-e8b6-400d-bece-19819375762a",
   "metadata": {},
   "outputs": [],
   "source": [
    "from aocd import get_data\n",
    "from collections import Counter\n",
    "\n",
    "# get data\n",
    "data = get_data(day=7, year=2023)"
   ]
  },
  {
   "cell_type": "code",
   "execution_count": null,
   "id": "de6e8061-6320-46ed-9ed9-537de8ed1234",
   "metadata": {},
   "outputs": [],
   "source": [
    "# part 1\n",
    "\n",
    "string_map = str.maketrans('AKQJT98765432',\n",
    "                           'MLKJIHGFEDCBA')\n",
    "\n",
    "string_map_back = str.maketrans('MLKJIHGFEDCBA',\n",
    "                                'AKQJT98765432')\n",
    "\n",
    "\n",
    "hand_list = [[hand.translate(string_map), int(bid)] for hand, bid in [x.split() for x in data.split(\"\\n\")]]\n",
    "n_hands = len(hand_list)\n",
    "hand_list = [[sorted(list(Counter(hand).values()), reverse=True), hand, bid] for hand, bid in hand_list]\n",
    "hand_list = sorted(hand_list, reverse=True)\n",
    "hand_list = [[card_counts, hand.translate(string_map_back), bid, n_hands-index, bid*(n_hands-index)] for index, [card_counts, hand, bid] in enumerate(hand_list)]\n",
    "\n",
    "#print(hand_list)\n",
    "    \n",
    "print(sum([score for card_counts, hand, bid, rank, score in hand_list]))"
   ]
  },
  {
   "cell_type": "code",
   "execution_count": null,
   "id": "af6728d9-371f-4177-a963-bf68676b895c",
   "metadata": {},
   "outputs": [],
   "source": [
    "# part 2\n",
    "\n",
    "string_map_p2 = str.maketrans('AKQT98765432J',\n",
    "                           'MLKJIHGFEDCBA')\n",
    "\n",
    "string_map_p2_back = str.maketrans('MLKJIHGFEDCBA',\n",
    "                                'AKQJT98765432')\n",
    "\n",
    "hand_list = [[hand.translate(string_map_p2), int(bid)] for hand, bid in [x.split() for x in data.split(\"\\n\")]]\n",
    "n_hands = len(hand_list)\n",
    "\n",
    "#hand_list = [[, hand, bid] for hand, bid in hand_list]\n",
    "hand_list_best = []\n",
    "for hand in hand_list:\n",
    "    cards = hand[0]\n",
    "    bid = hand[1]\n",
    "    card_counts_opt_list = []\n",
    "    for joker_value in list('MLKJIHGFEDCB'):\n",
    "        cards_opt = cards.replace('A', joker_value)\n",
    "        card_counts_opt_list.append(sorted(list(Counter(cards_opt).values()), reverse=True))\n",
    "    card_counts_best = sorted(card_counts_opt_list, reverse = True)[0]\n",
    "    hand_list_best.append([card_counts_best, cards, bid])\n",
    "\n",
    "\n",
    "hand_list_best = sorted(hand_list_best, reverse=True)\n",
    "hand_list_best = [[card_counts, hand.translate(string_map_p2_back), bid, n_hands-index, bid*(n_hands-index)] for index, [card_counts, hand, bid] in enumerate(hand_list_best)]\n",
    "\n",
    "    \n",
    "print(sum([score for card_counts, hand, bid, rank, score in hand_list_best]))\n"
   ]
  }
 ],
 "metadata": {
  "kernelspec": {
   "display_name": "Python 3",
   "language": "python",
   "name": "python3"
  },
  "language_info": {
   "codemirror_mode": {
    "name": "ipython",
    "version": 3
   },
   "file_extension": ".py",
   "mimetype": "text/x-python",
   "name": "python",
   "nbconvert_exporter": "python",
   "pygments_lexer": "ipython3",
   "version": "3.9.4"
  }
 },
 "nbformat": 4,
 "nbformat_minor": 5
}
