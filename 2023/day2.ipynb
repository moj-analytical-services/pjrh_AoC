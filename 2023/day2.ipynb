{
 "cells": [
  {
   "cell_type": "code",
   "execution_count": null,
   "id": "6ea5ef67-96d9-4f35-bd03-0bb0d083eec5",
   "metadata": {},
   "outputs": [],
   "source": [
    "import re\n",
    "\n",
    "# part 1\n",
    "\n",
    "def list_ball_nums(colour, line):\n",
    "        match = re.findall(r'\\d+(?= ' + colour +')', line)\n",
    "        nums = list(map(int, match))\n",
    "        return(nums)\n",
    "\n",
    "out_val = 0\n",
    "with open('day2a.txt') as input_file:\n",
    "    for line in input_file:\n",
    "        game_num = int(re.sub(r'Game (\\d+):.*', r'\\1', line))\n",
    "\n",
    "        if max(list_ball_nums('red',line)) > 12:\n",
    "            continue\n",
    "            \n",
    "        if max(list_ball_nums('green',line)) > 13:\n",
    "            continue\n",
    "        \n",
    "        if max(list_ball_nums('blue',line)) > 14:\n",
    "            continue\n",
    "        \n",
    "        out_val = out_val + game_num\n",
    "        \n",
    "print(out_val)"
   ]
  },
  {
   "cell_type": "code",
   "execution_count": null,
   "id": "a16eb749-fb3a-4448-9f33-b48275d6b7fb",
   "metadata": {},
   "outputs": [],
   "source": [
    "\n",
    "# part 2\n",
    "\n",
    "out_val = 0\n",
    "with open('day2a.txt') as input_file:\n",
    "    for line in input_file:\n",
    "\n",
    "        game_power = max(list_ball_nums('red',line)) * max(list_ball_nums('blue',line)) * max(list_ball_nums('green',line)) \n",
    "        out_val = out_val + game_power\n",
    "        \n",
    "print(out_val)"
   ]
  }
 ],
 "metadata": {
  "kernelspec": {
   "display_name": "Python 3",
   "language": "python",
   "name": "python3"
  },
  "language_info": {
   "codemirror_mode": {
    "name": "ipython",
    "version": 3
   },
   "file_extension": ".py",
   "mimetype": "text/x-python",
   "name": "python",
   "nbconvert_exporter": "python",
   "pygments_lexer": "ipython3",
   "version": "3.9.4"
  }
 },
 "nbformat": 4,
 "nbformat_minor": 5
}
