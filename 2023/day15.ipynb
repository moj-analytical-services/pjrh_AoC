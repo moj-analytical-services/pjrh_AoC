{
 "cells": [
  {
   "cell_type": "code",
   "execution_count": null,
   "id": "e3d58143-7139-45da-8b66-178be5156922",
   "metadata": {
    "tags": []
   },
   "outputs": [],
   "source": [
    "# Get data\n",
    "\n",
    "from aocd import get_data\n",
    "import time\n",
    "\n",
    "# get data\n",
    "data = get_data(day=15, year=2023)\n",
    "\n",
    "#data = \"\"\"rn=1,cm-,qp=3,cm=2,qp-,pc=4,ot=9,ab=5,pc-,pc=6,ot=7\"\"\"\n",
    "\n",
    "#data = [string for string in data.split('\\n\\n')]\n",
    "\n",
    "#print(data, sep = \"\\n---\\n\")"
   ]
  },
  {
   "cell_type": "code",
   "execution_count": null,
   "id": "6ca4257f-d936-4ab8-98f6-51ec2e0738a7",
   "metadata": {},
   "outputs": [],
   "source": [
    "# Part 1\n",
    "\n",
    "t0 = time.time()\n",
    "\n",
    "def update_hash(cur, char):\n",
    "    cur += ord(char)\n",
    "    cur *= 17\n",
    "    cur %= 256\n",
    "    return cur\n",
    "\n",
    "def make_hash(string):\n",
    "    num = 0\n",
    "    for c in string:\n",
    "        num = update_hash(num, c)\n",
    "    return num\n",
    "\n",
    "out_list = [make_hash(string) for string in data.split(',')]\n",
    "\n",
    "print(sum(out_list))\n",
    "\n",
    "t1 = time.time()\n",
    "\n",
    "print(1000*(t1-t0), \"msec\")"
   ]
  },
  {
   "cell_type": "code",
   "execution_count": null,
   "id": "6daa13f6-56ce-4437-a28e-e9130d48256b",
   "metadata": {},
   "outputs": [],
   "source": [
    "# Part 2\n",
    "\n",
    "box = {}\n",
    "focal = {}\n",
    "order = []\n",
    "\n",
    "for string in data.split(','):\n",
    "    label = string.split('=')\n",
    "    if len(label) == 1:\n",
    "        label = label[0][:-1]\n",
    "        inst = [label, make_hash(label), 0, '-']\n",
    "    else:\n",
    "        inst = [label[0], make_hash(label[0]), int(label[1]), '=']\n",
    "    if inst[3] == '=':\n",
    "        box.update({inst[0]:inst[1]})\n",
    "        focal.update({inst[0]:inst[2]})\n",
    "        if not inst[0] in order:\n",
    "            order = order + [inst[0]]\n",
    "        \n",
    "    if inst[3] == '-':\n",
    "        if inst[0] in order:\n",
    "            order.remove(inst[0])\n",
    "            \n",
    "        \n",
    "#print(box)\n",
    "#print(focal)\n",
    "#print(order)\n",
    "\n",
    "slot = [1] * 256\n",
    "score_total = 0\n",
    "for lens in order:\n",
    "    score_lens = (box[lens]+1)*slot[box[lens]]*focal[lens]\n",
    "    #print(score_lens)\n",
    "    slot[box[lens]] = slot[box[lens]] + 1\n",
    "    score_total += score_lens\n",
    "    \n",
    "print(score_total)"
   ]
  }
 ],
 "metadata": {
  "kernelspec": {
   "display_name": "My AoC",
   "language": "python",
   "name": "venv"
  },
  "language_info": {
   "codemirror_mode": {
    "name": "ipython",
    "version": 3
   },
   "file_extension": ".py",
   "mimetype": "text/x-python",
   "name": "python",
   "nbconvert_exporter": "python",
   "pygments_lexer": "ipython3",
   "version": "3.9.4"
  }
 },
 "nbformat": 4,
 "nbformat_minor": 5
}
