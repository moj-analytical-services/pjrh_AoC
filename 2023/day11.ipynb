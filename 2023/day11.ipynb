{
 "cells": [
  {
   "cell_type": "code",
   "execution_count": null,
   "id": "e3d58143-7139-45da-8b66-178be5156922",
   "metadata": {},
   "outputs": [],
   "source": [
    "# Get data\n",
    "\n",
    "from aocd import get_data\n",
    "import math\n",
    "import itertools\n",
    "\n",
    "# get data\n",
    "data = get_data(day=11, year=2023)\n",
    "\n",
    "data = data.split(\"\\n\")\n",
    "\n",
    "data_h = len(data)\n",
    "data_w = len(data[0])\n",
    "\n",
    "#print(*data, sep = \"\\n\")"
   ]
  },
  {
   "cell_type": "code",
   "execution_count": null,
   "id": "7f229dec-eb5d-4248-ac6e-fa19b5154e8a",
   "metadata": {},
   "outputs": [],
   "source": [
    "\n",
    "G = []\n",
    "name = 1\n",
    "for y, line in enumerate(data):\n",
    "    for x, char in enumerate(line):\n",
    "        if char == \"#\":\n",
    "            G.append([x,y,name])\n",
    "            name += 1\n",
    "\n",
    "        \n",
    "Gx = [x for x,y,name in G]\n",
    "empty_x = [i for i in range(data_h) if i not in Gx]\n",
    "\n",
    "Gy = [y for x,y,name in G]\n",
    "empty_y = [i for i in range(data_w) if i not in Gy]\n",
    "            \n",
    "print(empty_x)\n",
    "print(empty_y)\n",
    "\n",
    "total_steps_p1 = 0\n",
    "total_steps_p2 = 0\n",
    "for G1, G2 in itertools.combinations(G,2):\n",
    "    x1 = min(G1[0], G2[0])\n",
    "    x2 = max(G1[0], G2[0])\n",
    "    x_coords = range(x1+1, x2+1)\n",
    "    y1 = min(G1[1], G2[1])\n",
    "    y2 = max(G1[1], G2[1])\n",
    "    y_coords = range(y1+1,y2+1)\n",
    "    \n",
    "    x_steps_p1 = sum([2 if x in empty_x else 1 for x in x_coords])\n",
    "    y_steps_p1 = sum([2 if y in empty_y else 1 for y in y_coords])\n",
    "    total_steps_p1 = total_steps_p1 + x_steps_p1 + y_steps_p1\n",
    "    #print(G1[2], \"to\", G2[2], \"-\", x_steps+y_steps)\n",
    "    \n",
    "    x_steps_p2 = sum([1e6 if x in empty_x else 1 for x in x_coords])\n",
    "    y_steps_p2 = sum([1e6 if y in empty_y else 1 for y in y_coords])\n",
    "    total_steps_p2 = total_steps_p2 + x_steps_p2 + y_steps_p2\n",
    "\n",
    "\n",
    "#print(combos)\n",
    "print(total_steps_p1)\n",
    "print(total_steps_p2)"
   ]
  }
 ],
 "metadata": {
  "kernelspec": {
   "display_name": "My AoC",
   "language": "python",
   "name": "venv"
  },
  "language_info": {
   "codemirror_mode": {
    "name": "ipython",
    "version": 3
   },
   "file_extension": ".py",
   "mimetype": "text/x-python",
   "name": "python",
   "nbconvert_exporter": "python",
   "pygments_lexer": "ipython3",
   "version": "3.9.4"
  }
 },
 "nbformat": 4,
 "nbformat_minor": 5
}
