{
 "cells": [
  {
   "cell_type": "code",
   "execution_count": null,
   "id": "8a7e7bda-83e4-4568-8662-b73a7a49db51",
   "metadata": {},
   "outputs": [],
   "source": [
    "# Get data\n",
    "\n",
    "from aocd import get_data\n",
    "import math\n",
    "from functools import reduce\n",
    "\n",
    "# get data\n",
    "data = get_data(day=9, year=2023)\n",
    "data = [list(map(int,line.split(\" \"))) for line in data.split(\"\\n\")]\n",
    "\n",
    "#print(*data, sep = \"\\n\")"
   ]
  },
  {
   "cell_type": "code",
   "execution_count": null,
   "id": "c421bcae-1cbf-47cb-a38a-be128e672298",
   "metadata": {},
   "outputs": [],
   "source": [
    "\n",
    "def differ(int_list):\n",
    "    return [x-y for x,y in zip(int_list[1:], int_list[:-1])]\n",
    "\n",
    "# Part 1\n",
    "\n",
    "def next_num_p1(line):\n",
    "    while not all([x==0 for x in line[-1]]):\n",
    "        line.append(differ(line[-1]))\n",
    "    return sum([x[-1] for x in line])\n",
    "\n",
    "nums_p1 = [next_num_p1([x]) for x in data]\n",
    "print(\"Part 1:\", sum(nums_p1))\n",
    "\n",
    "# Part 2\n",
    "\n",
    "def next_num_p2(line):\n",
    "    while not all([x==0 for x in line[-1]]):\n",
    "        line.append(differ(line[-1]))\n",
    "    first_bits = [x[0] for x in line]\n",
    "    new_num = reduce(lambda x,y: y-x, list(reversed(first_bits)))\n",
    "    return new_num\n",
    "\n",
    "nums_p2 = [next_num_p2([x]) for x in data]\n",
    "print(\"Part 2:\", sum(nums_p2))\n"
   ]
  }
 ],
 "metadata": {
  "kernelspec": {
   "display_name": "Python 3",
   "language": "python",
   "name": "python3"
  },
  "language_info": {
   "codemirror_mode": {
    "name": "ipython",
    "version": 3
   },
   "file_extension": ".py",
   "mimetype": "text/x-python",
   "name": "python",
   "nbconvert_exporter": "python",
   "pygments_lexer": "ipython3",
   "version": "3.9.4"
  }
 },
 "nbformat": 4,
 "nbformat_minor": 5
}
