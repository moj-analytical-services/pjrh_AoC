{
 "cells": [
  {
   "cell_type": "code",
   "execution_count": null,
   "id": "dc828a4c-1efb-473a-b872-4eb823767c9b",
   "metadata": {},
   "outputs": [],
   "source": [
    "import re\n",
    "\n",
    "# part 1\n",
    "\n",
    "out_val = 0\n",
    "with open('day1a.txt') as input_file:\n",
    "    for line in input_file:\n",
    "        line_val = int(re.sub(r'^.*([0-9])[a-z]*?$', r'\\1', line)) + 10*int(re.sub(r'^[a-z]*?([0-9]).*$', r'\\1', line))\n",
    "        out_val = out_val + line_val\n",
    "        \n",
    "print(out_val)"
   ]
  },
  {
   "cell_type": "code",
   "execution_count": null,
   "id": "123b1916-e18c-436f-a419-13ab38ff32b2",
   "metadata": {},
   "outputs": [],
   "source": [
    "# part 2\n",
    "\n",
    "def sub_word_to_num(line):\n",
    "        line = re.sub(r'one', r'1', line)\n",
    "        line = re.sub(r'two', r'2', line)\n",
    "        line = re.sub(r'three', r'3', line)\n",
    "        line = re.sub(r'four', r'4', line)\n",
    "        line = re.sub(r'five', r'5', line)\n",
    "        line = re.sub(r'six', r'6', line)\n",
    "        line = re.sub(r'seven', r'7', line)\n",
    "        line = re.sub(r'eight', r'8', line)\n",
    "        line = re.sub(r'nine', r'9', line)\n",
    "        return(line)\n",
    "\n",
    "out_val = 0\n",
    "with open('day1a.txt') as input_file:\n",
    "    for line in input_file:\n",
    "        line_val1 = re.sub(r'^.*([0-9]|one|two|three|four|five|six|seven|eight|nine)[a-z]*?$', r'\\1', line)\n",
    "        line_val2 = re.sub(r'^[a-z]*?([0-9]|one|two|three|four|five|six|seven|eight|nine).*$', r'\\1', line)\n",
    "        line_val = int(sub_word_to_num(line_val1)) + 10*int(sub_word_to_num(line_val2))\n",
    "        out_val = out_val + line_val\n",
    "        \n",
    "print(out_val)"
   ]
  }
 ],
 "metadata": {
  "kernelspec": {
   "display_name": "Python 3",
   "language": "python",
   "name": "python3"
  },
  "language_info": {
   "codemirror_mode": {
    "name": "ipython",
    "version": 3
   },
   "file_extension": ".py",
   "mimetype": "text/x-python",
   "name": "python",
   "nbconvert_exporter": "python",
   "pygments_lexer": "ipython3",
   "version": "3.9.4"
  }
 },
 "nbformat": 4,
 "nbformat_minor": 5
}
