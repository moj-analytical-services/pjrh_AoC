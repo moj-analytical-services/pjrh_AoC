{
 "cells": [
  {
   "cell_type": "code",
   "execution_count": null,
   "id": "289602e3-d9b3-45c5-b344-debd9c4a738e",
   "metadata": {},
   "outputs": [],
   "source": [
    "import regex\n",
    "import math\n",
    "\n",
    "# part 1\n",
    "\n",
    "out_val = 0\n",
    "with open('day4a.txt') as input_file:\n",
    "    for line in input_file:\n",
    "        \n",
    "        line_match = regex.findall(r'(?<=[:].*?)\\b([0-9]+)\\b(?=.*[|].*\\b(\\1)\\b)', line)\n",
    "        line_val = math.floor(2**(len(line_match)-1))\n",
    "        out_val = out_val + line_val\n",
    "        \n",
    "        #print(line)\n",
    "        #print(line_match)\n",
    "        #print(line_val)\n",
    "        \n",
    "print(out_val)"
   ]
  },
  {
   "cell_type": "code",
   "execution_count": null,
   "id": "76413299-6b2b-44c7-8a0c-2e6346814f4e",
   "metadata": {},
   "outputs": [],
   "source": [
    "# part 2\n",
    "\n",
    "import regex\n",
    "import numpy as np\n",
    "\n",
    "card_num = 1\n",
    "win_list_all = []\n",
    "with open('day4a.txt') as input_file:\n",
    "    for line in input_file:\n",
    "        win_list_all = win_list_all + [card_num]\n",
    "        \n",
    "        line_match = regex.findall(r'(?<=[:].*?)\\b([0-9]+)\\b(?=.*[|].*\\b(\\1)\\b)', line)\n",
    "        card_wins = len(line_match)\n",
    "        \n",
    "        win_list_step = list(range(card_num+1, card_num+card_wins+1))\n",
    "        win_list = list(np.repeat(win_list_step, win_list_all.count(card_num)))\n",
    "        win_list_all = win_list_all + win_list\n",
    "\n",
    "        card_num = card_num + 1\n",
    "        \n",
    "print(len(win_list_all))\n",
    " "
   ]
  }
 ],
 "metadata": {
  "kernelspec": {
   "display_name": "Python 3",
   "language": "python",
   "name": "python3"
  },
  "language_info": {
   "codemirror_mode": {
    "name": "ipython",
    "version": 3
   },
   "file_extension": ".py",
   "mimetype": "text/x-python",
   "name": "python",
   "nbconvert_exporter": "python",
   "pygments_lexer": "ipython3",
   "version": "3.9.4"
  }
 },
 "nbformat": 4,
 "nbformat_minor": 5
}
